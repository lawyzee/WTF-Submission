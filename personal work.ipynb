{
 "cells": [
  {
   "cell_type": "code",
   "execution_count": 4,
   "id": "dd3aa175",
   "metadata": {
    "scrolled": true
   },
   "outputs": [
    {
     "name": "stdout",
     "output_type": "stream",
     "text": [
      "1\n",
      "2\n",
      "3\n",
      "4\n",
      "5\n",
      "6\n",
      "7\n"
     ]
    }
   ],
   "source": [
    "#1. Print all elements of a list using for loop\n",
    "list=[1,2,3,4,5,6,7]\n",
    "for i in list:\n",
    "    print(i)\n",
    "    "
   ]
  },
  {
   "cell_type": "code",
   "execution_count": 13,
   "id": "960b2534",
   "metadata": {},
   "outputs": [
    {
     "ename": "SyntaxError",
     "evalue": "invalid syntax (30219437.py, line 7)",
     "output_type": "error",
     "traceback": [
      "\u001b[1;36m  Input \u001b[1;32mIn [13]\u001b[1;36m\u001b[0m\n\u001b[1;33m    else:\u001b[0m\n\u001b[1;37m    ^\u001b[0m\n\u001b[1;31mSyntaxError\u001b[0m\u001b[1;31m:\u001b[0m invalid syntax\n"
     ]
    }
   ],
   "source": [
    "# 2. A company decided to give bonus of 5% to employee if his/her year of service is more than 5 years. Ask user for their salary and year of service and print the net bonus amount\n",
    "\n",
    "salary =int(input(\"Enter salary:\"))\n",
    "years = int(input(\"Enter years of working:\"))\n",
    "if years > 5:\n",
    "    bonus = salary * 5/100\n",
    "print(\"Your bonus is\", bonus)        \n",
    "\n",
    "else:\n",
    "print(\"You dont have bonus\")\n",
    "    "
   ]
  },
  {
   "cell_type": "code",
   "execution_count": null,
   "id": "c21eab75",
   "metadata": {
    "scrolled": true
   },
   "outputs": [],
   "source": [
    "# 3. Take input of age of 3 people by user and determine oldest and youngest among them.\n",
    "age1=int(input('enter age1: '))\n",
    "age2=int(input('enter age2: '))\n",
    "age3=int(input('enter age3: '))\n",
    "if age1>age2 and age1>age3:\n",
    "    print('age1 is oldest')\n",
    "\n",
    "elif age2>age1 and age2>age3:\n",
    "    print('age2 is oldest')\n",
    "\n",
    "else:\n",
    "    print('age3 is oldest')\n",
    "\n",
    "if age1<age2 and age1<age3:\n",
    "    print('age1 is youngest')\n",
    "\n",
    "elif age2<age1 and age2<age3:\n",
    "    print('age2 is youngest')\n",
    "\n",
    "else:\n",
    "     print('age3 is youngest')\n"
   ]
  },
  {
   "cell_type": "code",
   "execution_count": null,
   "id": "62608d23",
   "metadata": {},
   "outputs": [],
   "source": [
    "# question 4 and 5\n",
    "score = input(\"Enter your score\")\n",
    "\n",
    "score = int(score)\n",
    "\n",
    "if score < 25:  \n",
    "\n",
    "   print(\"F\")\n",
    "\n",
    "elif score >= 25 and score < 45:  \n",
    "\n",
    "   print(\"E\")\n",
    "\n",
    "elif score >= 45 and score < 50:  \n",
    "\n",
    "   print(\"D\")\n",
    "\n",
    "elif score >= 50 and score < 60:  \n",
    "\n",
    "   print(\"C\")\n",
    "\n",
    "elif score >= 60 and score < 80:  \n",
    "\n",
    "   print(\"B\")\n",
    "\n",
    "else:  \n",
    "\n",
    "   print(\"A\")"
   ]
  },
  {
   "cell_type": "code",
   "execution_count": 20,
   "id": "744d8fa1",
   "metadata": {},
   "outputs": [
    {
     "name": "stdout",
     "output_type": "stream",
     "text": [
      "{'Abu': 3, 'Sha': 5, 'Maly': 7, 'Fav': 15}\n"
     ]
    }
   ],
   "source": [
    "# 6. Write a Python script to merge two Python dictionaries\n",
    "mydict_1 = {\"Abu\":3, \"Sha\":5}\n",
    "mydict_2 = {\"Maly\":7, \"Fav\": 15}\n",
    "print(mydict_1 | mydict_2)"
   ]
  },
  {
   "cell_type": "code",
   "execution_count": 27,
   "id": "0e55d3bd",
   "metadata": {},
   "outputs": [
    {
     "name": "stdout",
     "output_type": "stream",
     "text": [
      "Largest element is 100\n"
     ]
    }
   ],
   "source": [
    "# 7. Write a python program to get the largest number from a list\n",
    "list2 = [20, 10, 20, 4, 100]\n",
    "print(\"Largest element is\", list2[-1])"
   ]
  },
  {
   "cell_type": "code",
   "execution_count": 12,
   "id": "5c19fe51",
   "metadata": {},
   "outputs": [
    {
     "name": "stdout",
     "output_type": "stream",
     "text": [
      "{'cat': 1, 'car': 2, 'cup': 3, 'dog': 4}\n",
      "{'car': 2, 'cup': 3, 'dog': 4}\n"
     ]
    }
   ],
   "source": [
    "# 8. Write a python program to remove a key from a dictionary\n",
    "myDict = {\"cat\":1, \"car\":2, \"cup\":3, \"dog\":4}\n",
    "print(myDict)\n",
    "if \"cat\" in myDict: \n",
    "    del myDict[\"cat\"]\n",
    "print(myDict)"
   ]
  },
  {
   "cell_type": "code",
   "execution_count": null,
   "id": "2428e0ce",
   "metadata": {},
   "outputs": [],
   "source": []
  }
 ],
 "metadata": {
  "kernelspec": {
   "display_name": "Python 3 (ipykernel)",
   "language": "python",
   "name": "python3"
  },
  "language_info": {
   "codemirror_mode": {
    "name": "ipython",
    "version": 3
   },
   "file_extension": ".py",
   "mimetype": "text/x-python",
   "name": "python",
   "nbconvert_exporter": "python",
   "pygments_lexer": "ipython3",
   "version": "3.9.12"
  }
 },
 "nbformat": 4,
 "nbformat_minor": 5
}
