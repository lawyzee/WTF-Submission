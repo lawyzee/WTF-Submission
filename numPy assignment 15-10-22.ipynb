{
 "cells": [
  {
   "cell_type": "code",
   "execution_count": 1,
   "id": "8483ab94",
   "metadata": {},
   "outputs": [],
   "source": [
    "import numpy as np"
   ]
  },
  {
   "cell_type": "code",
   "execution_count": 7,
   "id": "39554761",
   "metadata": {},
   "outputs": [
    {
     "data": {
      "text/plain": [
       "array([ 5.        ,  6.66666667,  8.33333333, 10.        , 11.66666667,\n",
       "       13.33333333, 15.        , 16.66666667, 18.33333333, 20.        ])"
      ]
     },
     "execution_count": 7,
     "metadata": {},
     "output_type": "execute_result"
    }
   ],
   "source": [
    "# 1. numpy.linspace\n",
    "# the first number is the starting no, the second no is the end point while the last no is the specified amount\n",
    "# example\n",
    "np.linspace(5,20,10)\n"
   ]
  },
  {
   "cell_type": "code",
   "execution_count": 10,
   "id": "87c2a546",
   "metadata": {},
   "outputs": [
    {
     "data": {
      "text/plain": [
       "array([[1, 5, 1],\n",
       "       [2, 5, 2],\n",
       "       [3, 5, 3]])"
      ]
     },
     "execution_count": 10,
     "metadata": {},
     "output_type": "execute_result"
    }
   ],
   "source": [
    "# 2. np.insert function insert values along the given axis before the given indices.\n",
    "a = np.array([[1, 1], [2, 2], [3, 3]])\n",
    "a\n",
    "np.insert(a, 1, 5)\n",
    "np.insert(a, 1, 5, axis=1)"
   ]
  },
  {
   "cell_type": "code",
   "execution_count": 9,
   "id": "1df0f29e",
   "metadata": {},
   "outputs": [
    {
     "data": {
      "text/plain": [
       "array([10, 10, 10, 10, 10])"
      ]
     },
     "execution_count": 9,
     "metadata": {},
     "output_type": "execute_result"
    }
   ],
   "source": [
    "# 3. numpy.repeat\n",
    "#The numpy.repeat function repeats the elements of an array.\n",
    "#The number of repetitions is specified by the second argument repeats.\n",
    "# repeat 10 5times\n",
    "np.repeat(10,5)"
   ]
  },
  {
   "cell_type": "code",
   "execution_count": 12,
   "id": "1f40ecc0",
   "metadata": {},
   "outputs": [
    {
     "data": {
      "text/plain": [
       "array([1, 0, 2, 1, 0, 0, 2, 0, 0, 1])"
      ]
     },
     "execution_count": 12,
     "metadata": {},
     "output_type": "execute_result"
    }
   ],
   "source": [
    "# 4. numpy.random\n",
    "# The numpy.random.randint function returns random integers from the interval.\n",
    "np.random.randint(3,size =10)"
   ]
  },
  {
   "cell_type": "code",
   "execution_count": 4,
   "id": "2574657e",
   "metadata": {},
   "outputs": [
    {
     "data": {
      "text/plain": [
       "78"
      ]
     },
     "execution_count": 4,
     "metadata": {},
     "output_type": "execute_result"
    }
   ],
   "source": [
    "# 5. np.max is a function to get the maximum value in an array\n",
    "arr = np.array((23,21,55,67,78))\n",
    "arr.max()"
   ]
  },
  {
   "cell_type": "code",
   "execution_count": 54,
   "id": "a4e1d1fd",
   "metadata": {},
   "outputs": [
    {
     "name": "stdout",
     "output_type": "stream",
     "text": [
      "[[1 2 3]\n",
      " [4 5 6]]\n",
      "[[1 4]\n",
      " [2 5]\n",
      " [3 6]]\n"
     ]
    }
   ],
   "source": [
    "# 6. np.transpose function reverses or permutes the axes of an ndarray.\n",
    "nd1 = np.array([[1,2,3],[4,5,6]])\n",
    "\n",
    "print(nd1)\n",
    "print(np.transpose(nd1))"
   ]
  },
  {
   "cell_type": "code",
   "execution_count": 53,
   "id": "215d6343",
   "metadata": {},
   "outputs": [
    {
     "name": "stdout",
     "output_type": "stream",
     "text": [
      "44\n",
      "[11 15 18]\n",
      "[ 6 15 23]\n"
     ]
    }
   ],
   "source": [
    "# 7. np.sum function sums the elements of an array over a given axis.\n",
    "wet = np.array([[1,2,3],[4,5,6], [6,8,9]])\n",
    "print(np.sum(wet))\n",
    "print(np.sum(wet, 0))\n",
    "print(np.sum(wet, 1))"
   ]
  },
  {
   "cell_type": "code",
   "execution_count": 46,
   "id": "f0c71941",
   "metadata": {},
   "outputs": [
    {
     "name": "stdout",
     "output_type": "stream",
     "text": [
      "[[1 2 3]\n",
      " [4 5 6]]\n",
      "[[1 2]\n",
      " [3 4]\n",
      " [5 6]]\n",
      "[[1]\n",
      " [2]\n",
      " [3]\n",
      " [4]\n",
      " [5]\n",
      " [6]]\n"
     ]
    }
   ],
   "source": [
    "# 8. np.reshape function rearranges the data in an ndarray into a new shape.\n",
    "#The new shape must be compatible with the old one, though an index of -1 can be used to infer one dimension.\n",
    "\n",
    "na1 = np.array([[1,2,3],[4,5,6]])\n",
    "\n",
    "print(na1)\n",
    "print(np.reshape(na1,(3,2)))\n",
    "print(np.reshape(na1,(-1,1)))"
   ]
  },
  {
   "cell_type": "code",
   "execution_count": 43,
   "id": "46be5bae",
   "metadata": {
    "scrolled": true
   },
   "outputs": [
    {
     "name": "stdout",
     "output_type": "stream",
     "text": [
      "[[1.      2.71828]\n",
      " [2.71828 1.     ]]\n",
      "[[0.         0.99999933]\n",
      " [0.99999933 0.        ]]\n"
     ]
    }
   ],
   "source": [
    "# 9. nd.log:log returns an ndarray with each element as the natural logarithm of the corresponding element in array\n",
    "nd = np.array([[1,2.71828],[2.71828,1]])\n",
    "\n",
    "print(nd)\n",
    "print(np.log(nd))"
   ]
  },
  {
   "cell_type": "code",
   "execution_count": 42,
   "id": "3c61448d",
   "metadata": {},
   "outputs": [
    {
     "name": "stdout",
     "output_type": "stream",
     "text": [
      "[[ 1  2  3]\n",
      " [ 4  5  6]\n",
      " [ 7  8  9]\n",
      " [12 13 14]]\n"
     ]
    }
   ],
   "source": [
    "# 10. np.append: append values to the end of an array, see insert and delete\n",
    "np1 = np.array([[1,2,3],[4,5,6]])\n",
    "np2 = np.array([[7,8,9],[12,13,14]])\n",
    "\n",
    "#print(np1)\n",
    "#print(np2)\n",
    "print(np.append(np1,np2,0))"
   ]
  },
  {
   "cell_type": "code",
   "execution_count": 6,
   "id": "b93ee95a",
   "metadata": {},
   "outputs": [
    {
     "data": {
      "text/plain": [
       "[array([0., 1., 2.]), array([3., 4., 5.]), array([6., 7., 8.])]"
      ]
     },
     "execution_count": 6,
     "metadata": {},
     "output_type": "execute_result"
    }
   ],
   "source": [
    "# 11. np.split Split an array into multiple sub-arrays of equal or near-equal size.\n",
    "#Does not raise an exception if an equal division cannot be made.\n",
    "\n",
    "\n",
    "i = np.arange(9.0)\n",
    "np.split(i, 3)"
   ]
  },
  {
   "cell_type": "code",
   "execution_count": 1,
   "id": "dbeb82a5",
   "metadata": {},
   "outputs": [
    {
     "data": {
      "text/plain": [
       "5"
      ]
     },
     "execution_count": 1,
     "metadata": {},
     "output_type": "execute_result"
    }
   ],
   "source": [
    "import numpy as np\n",
    "# 12.\n",
    "array = np.array((10,2,3,7,18,22))\n",
    "array.argmax()"
   ]
  },
  {
   "cell_type": "code",
   "execution_count": 12,
   "id": "81abb3b7",
   "metadata": {},
   "outputs": [
    {
     "data": {
      "text/plain": [
       "array([0, 1, 2, 0, 1, 2, 0, 1, 2, 0, 1, 2])"
      ]
     },
     "execution_count": 12,
     "metadata": {},
     "output_type": "execute_result"
    }
   ],
   "source": [
    "# 13. numpy.tile Construct an array by repeating A the number of times given by reps.\n",
    "u= np.array([0, 1, 2])\n",
    "np.tile(u, 4)\n"
   ]
  },
  {
   "cell_type": "code",
   "execution_count": 13,
   "id": "ab014c20",
   "metadata": {},
   "outputs": [
    {
     "data": {
      "text/plain": [
       "array([1, 2, 3])"
      ]
     },
     "execution_count": 13,
     "metadata": {},
     "output_type": "execute_result"
    }
   ],
   "source": [
    "# 14. np.umique Find the unique elements of an array.Returns the sorted unique elements of an array. \n",
    "np.unique([1, 1, 2, 2, 3, 3])"
   ]
  },
  {
   "cell_type": "code",
   "execution_count": 14,
   "id": "851f3c4c",
   "metadata": {},
   "outputs": [
    {
     "data": {
      "text/plain": [
       "array([-2, -1,  0,  1,  2])"
      ]
     },
     "execution_count": 14,
     "metadata": {},
     "output_type": "execute_result"
    }
   ],
   "source": [
    "# 15. np.union1d Find the union of two arrays.\n",
    "#Return the unique, sorted array of values that are in either of the two input arrays\n",
    "np.union1d([-1, 0, 1], [-2, 0, 2])"
   ]
  },
  {
   "cell_type": "code",
   "execution_count": 15,
   "id": "e82f3f6d",
   "metadata": {
    "scrolled": true
   },
   "outputs": [
    {
     "data": {
      "text/plain": [
       "array([[0, 2],\n",
       "       [4, 6]])"
      ]
     },
     "execution_count": 15,
     "metadata": {},
     "output_type": "execute_result"
    }
   ],
   "source": [
    "# 16. np.isin Calculates element in test_elements, broadcasting over element only. Returns a boolean array of the same \n",
    "#shape as element that is True where an element of element is in test_elements and False otherwise.\n",
    "element = 2*np.arange(4).reshape((2, 2))\n",
    "element"
   ]
  },
  {
   "cell_type": "code",
   "execution_count": 17,
   "id": "03a76758",
   "metadata": {},
   "outputs": [
    {
     "data": {
      "text/plain": [
       "False"
      ]
     },
     "execution_count": 17,
     "metadata": {},
     "output_type": "execute_result"
    }
   ],
   "source": [
    "# 17. np.polynomial Polynomials in NumPy can be created, manipulated, and even fitted\n",
    "#using the convenience classes of the numpy.\n",
    "\n",
    "p1 = np.polynomial.Polynomial([1, 2, 3])\n",
    "p1\n",
    "p2 = np.polynomial.Polynomial([1, 2, 3], domain=[-2, 2])\n",
    "p1 == p2"
   ]
  },
  {
   "cell_type": "code",
   "execution_count": 18,
   "id": "add8df17",
   "metadata": {},
   "outputs": [
    {
     "name": "stdout",
     "output_type": "stream",
     "text": [
      "Name               Shape            Bytes            Type\n",
      "==============================================================\n",
      "\n",
      "___                2 x 2            16               int32\n",
      "array              6                24               int32\n",
      "arr                5                20               int32\n",
      "i                  9                72               float64\n",
      "a                  10               40               int32\n",
      "_8                 3 x 2            24               int32\n",
      "_9                 7                28               int32\n",
      "_10                3 x 3            36               int32\n",
      "u                  3                12               int32\n",
      "_11                6                24               int32\n",
      "_12                12               48               int32\n",
      "_13                3                12               int32\n",
      "_14                5                20               int32\n",
      "element (___)      2 x 2            16               int32\n",
      "_15 (___)          2 x 2            16               int32\n",
      "b                  20               160              float64\n",
      "\n",
      "Upper bound on total bytes  =       536\n"
     ]
    }
   ],
   "source": [
    "# 18. np.who Print the NumPy arrays in the given dictionary.If there is no dictionary passed in or vardict is None then returns\n",
    "#NumPy arrays in the globals() dictionary (all NumPy arrays in the namespace).\n",
    "a = np.arange(10)\n",
    "b = np.ones(20)\n",
    "np.who()"
   ]
  },
  {
   "cell_type": "code",
   "execution_count": 22,
   "id": "57cb8d1a",
   "metadata": {},
   "outputs": [
    {
     "data": {
      "text/plain": [
       "array([[False, False, False],\n",
       "       [ True,  True,  True],\n",
       "       [ True,  True,  True]])"
      ]
     },
     "execution_count": 22,
     "metadata": {},
     "output_type": "execute_result"
    }
   ],
   "source": [
    "# 19. np.nonzero Return the indices of the elements that are non-zero.Returns a tuple of arrays, one for each dimension of a, \n",
    "#containing the indices of the non-zero elements in that dimension. The values in a are always tested and returned in \n",
    "#row-major, C-style order.\n",
    "a = np.array([[1, 2, 3], [4, 5, 6], [7, 8, 9]])\n",
    "a > 3"
   ]
  },
  {
   "cell_type": "code",
   "execution_count": 23,
   "id": "0044255a",
   "metadata": {},
   "outputs": [
    {
     "data": {
      "text/plain": [
       "array([2, 1, 3, 4])"
      ]
     },
     "execution_count": 23,
     "metadata": {},
     "output_type": "execute_result"
    }
   ],
   "source": [
    "# 20. np.partition Creates a copy of the array with its elements rearranged in such a way that the value of the element in\n",
    "#k-th position is in the position it would be in a sorted array. All elements smaller than the k-th element are moved before \n",
    "#this element and all equal or greater are moved behind it. \n",
    "#The ordering of the elements in the two partitions is undefined.\n",
    "a = np.array([3, 4, 2, 1])\n",
    "np.partition(a, 3)"
   ]
  },
  {
   "cell_type": "code",
   "execution_count": null,
   "id": "d4402720",
   "metadata": {},
   "outputs": [],
   "source": []
  }
 ],
 "metadata": {
  "kernelspec": {
   "display_name": "Python 3 (ipykernel)",
   "language": "python",
   "name": "python3"
  },
  "language_info": {
   "codemirror_mode": {
    "name": "ipython",
    "version": 3
   },
   "file_extension": ".py",
   "mimetype": "text/x-python",
   "name": "python",
   "nbconvert_exporter": "python",
   "pygments_lexer": "ipython3",
   "version": "3.9.12"
  }
 },
 "nbformat": 4,
 "nbformat_minor": 5
}
